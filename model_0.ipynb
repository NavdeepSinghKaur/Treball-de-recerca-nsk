{
 "cells": [
  {
   "cell_type": "code",
   "execution_count": 13,
   "metadata": {},
   "outputs": [],
   "source": [
    "import tensorflow as tf\n",
    "import numpy as np\n",
    "import matplotlib.pyplot as plt\n",
    "import math"
   ]
  },
  {
   "cell_type": "code",
   "execution_count": null,
   "metadata": {},
   "outputs": [],
   "source": [
    "normal, modificat = [], []\n",
    "\n",
    "#data\n",
    "for element in range(1, 1000):\n",
    "    normal.append(element)\n",
    "    modificat.append((element*math.pi)/180)\n",
    "\n",
    "#data numpy\n",
    "numpy_normal = np.array(normal)\n",
    "numpy_modificat = np.array(modificat)"
   ]
  },
  {
   "cell_type": "code",
   "execution_count": null,
   "metadata": {},
   "outputs": [],
   "source": [
    "\n",
    "\n",
    "#model tensorflow\n",
    "capes = tf.keras.layers.Dense(units=1, input_shape=[1]) # <--- número de perceptrons\n",
    "model_xn = tf.keras.Sequential([capes])\n",
    "\n",
    "model_xn.compile(  \n",
    "    optimizer=tf.keras.optimizers.Adam(1),\n",
    "    loss = 'mean_squared_error'\n",
    ")\n",
    "\n",
    "xn_fit = model_xn.fit(numpy_normal, numpy_modificat, epochs=500)\n",
    "\n",
    "#grafica matplotlib\n",
    "plt.xlabel('Epoca')\n",
    "plt.ylabel('Perdues')\n",
    "plt.plot(xn_fit.history['loss'])\n",
    "plt.show()\n"
   ]
  },
  {
   "cell_type": "code",
   "execution_count": null,
   "metadata": {},
   "outputs": [],
   "source": [
    "\n",
    "output = model_xn.predict([1001]) #<--- input\n",
    "print(f\"Output: {output}\") #<--- output\n",
    "\n",
    "print(capes.get_weights()) "
   ]
  }
 ],
 "metadata": {
  "kernelspec": {
   "display_name": "Python 3",
   "language": "python",
   "name": "python3"
  },
  "language_info": {
   "codemirror_mode": {
    "name": "ipython",
    "version": 3
   },
   "file_extension": ".py",
   "mimetype": "text/x-python",
   "name": "python",
   "nbconvert_exporter": "python",
   "pygments_lexer": "ipython3",
   "version": "3.11.4"
  },
  "orig_nbformat": 4
 },
 "nbformat": 4,
 "nbformat_minor": 2
}
